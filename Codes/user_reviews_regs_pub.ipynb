{
  "nbformat": 4,
  "nbformat_minor": 0,
  "metadata": {
    "colab": {
      "provenance": [],
      "machine_shape": "hm",
      "authorship_tag": "ABX9TyMvYHk2x5xHv4DYk3kK+PYd",
      "include_colab_link": true
    },
    "kernelspec": {
      "name": "python3",
      "display_name": "Python 3"
    },
    "language_info": {
      "name": "python"
    }
  },
  "cells": [
    {
      "cell_type": "markdown",
      "metadata": {
        "id": "view-in-github",
        "colab_type": "text"
      },
      "source": [
        "<a href=\"https://colab.research.google.com/github/mahyarhabibi/GenderGaps_Hollywood/blob/main/Codes/user_reviews_regs_pub.ipynb\" target=\"_parent\"><img src=\"https://colab.research.google.com/assets/colab-badge.svg\" alt=\"Open In Colab\"/></a>"
      ]
    },
    {
      "cell_type": "markdown",
      "source": [
        "This notebook generates the results used to estimate the impact of the \\#MeToo movement on user reviews displayed in Figure B.1 in Appendix B"
      ],
      "metadata": {
        "id": "Y_60MUYZbOJD"
      }
    },
    {
      "cell_type": "code",
      "execution_count": null,
      "metadata": {
        "id": "GelXYJw-TpL4"
      },
      "outputs": [],
      "source": [
        "import numpy as np\n",
        "import pandas as pd \n",
        "import statsmodels.api as sm\n",
        "from patsy import dmatrices\n",
        "import re"
      ]
    },
    {
      "cell_type": "code",
      "source": [
        "from sklearn.feature_extraction.text import TfidfVectorizer"
      ],
      "metadata": {
        "id": "B4bUU9grQ9_O"
      },
      "execution_count": null,
      "outputs": []
    },
    {
      "cell_type": "code",
      "source": [
        "from google.colab import drive\n",
        "drive.mount('/content/gdrive')"
      ],
      "metadata": {
        "colab": {
          "base_uri": "https://localhost:8080/"
        },
        "id": "HOwpdY-8W0X1",
        "outputId": "a52c9f63-f7ee-4bcc-95e2-567b7d6a02f3"
      },
      "execution_count": null,
      "outputs": [
        {
          "output_type": "stream",
          "name": "stdout",
          "text": [
            "Drive already mounted at /content/gdrive; to attempt to forcibly remount, call drive.mount(\"/content/gdrive\", force_remount=True).\n"
          ]
        }
      ]
    },
    {
      "cell_type": "code",
      "source": [
        "# Directories to read data and store results\n",
        "#Please add the parent folder to your Google Drive\n",
        "# Public Link: https://drive.google.com/drive/folders/1TYCDAJOCiLZw4TObcLac5GnL5YtwYnUD?usp=sharing\n",
        "parent_dir = \"/content/gdrive/MyDrive/GenderGaps_Hollywood/\" # You may need to change the address\n",
        "data_dir = os.path.join(parent_dir, 'Data/')\n",
        "results_dir = os.path.join(parent_dir,'Results/')"
      ],
      "metadata": {
        "id": "_VqBHQ5KbNC8"
      },
      "execution_count": null,
      "outputs": []
    },
    {
      "cell_type": "code",
      "source": [
        "# Loading Data \n",
        "df_movies = pd.read_pickle(data_dir + 'movies_info_merged_MIW_pkl.zip')\n",
        "\n",
        "#Reviews\n",
        "df_urevs = pd.read_pickle(data_dir + 'reviews_users_merged.zip')\n",
        "urev_cols = ['Title', 'Year', 'title_year' ,'user', 'Uscore', 'U_count','V_count']\n",
        "df_urevs = df_urevs[urev_cols]"
      ],
      "metadata": {
        "id": "x_3sNf1ZW2hX"
      },
      "execution_count": null,
      "outputs": []
    },
    {
      "cell_type": "code",
      "source": [
        "# Creating a list of genres\n",
        "genres = set(df_movies['genre'].sum())\n",
        "for gen in genres:\n",
        "    df_movies[gen] = df_movies['genre'].map(lambda x: 1 if gen in x else 0)\n",
        "    \n",
        "df_movies = df_movies.rename(columns={'Film-Noir': 'FilmNoir', 'Sci-Fi': \n",
        "                                      'SciFi', 'Reality-TV': 'RealityTV',\n",
        "                                      'Talk-Show': 'TalkShow'})\n",
        "\n",
        "genres = genres - {'Film-Noir','Sci-Fi','Reality-TV', 'Talk-Show'}\n",
        "genres = list(genres.union({'FilmNoir','SciFi','RealityTV', 'TalkShow'}))"
      ],
      "metadata": {
        "id": "Pt4Fil6FXqZj"
      },
      "execution_count": null,
      "outputs": []
    },
    {
      "cell_type": "code",
      "source": [
        "# Matrix of plots embedding\n",
        "plot_vectors = [f'plot_vec{i}' for i in range(20)]\n",
        "X_vecs = df_movies[plot_vectors]"
      ],
      "metadata": {
        "id": "h80FTw4xhIKk"
      },
      "execution_count": null,
      "outputs": []
    },
    {
      "cell_type": "code",
      "source": [
        "# Cast (actors)\n",
        "from sklearn.preprocessing import MultiLabelBinarizer\n",
        "\n",
        "mlb = MultiLabelBinarizer()\n",
        "\n",
        "X_cast = pd.DataFrame(mlb.fit_transform(df_movies['cast']),columns=mlb.classes_, index=df_movies.index)\n",
        "\n",
        "# Keeping actors whose names showed up at least 5 times\n",
        "X_cast = X_cast[X_cast.columns[X_cast.sum()>=10]]"
      ],
      "metadata": {
        "id": "xFtbn9X2msAB"
      },
      "execution_count": null,
      "outputs": []
    },
    {
      "cell_type": "code",
      "source": [
        "# Companies with at least 10 movies\n",
        "X_company = pd.get_dummies(df_movies['company'])\n",
        "X_company = X_company[X_company.columns[X_company.sum()>=10]]\n",
        "\n",
        "# Distributors with at least 10 movies\n",
        "X_dist = pd.get_dummies(df_movies['Distributor'])\n",
        "X_dist = X_dist[X_dist.columns[X_dist.sum()>=10]]"
      ],
      "metadata": {
        "id": "6OCK5tWNmsAC"
      },
      "execution_count": null,
      "outputs": []
    },
    {
      "cell_type": "code",
      "source": [
        "#Countries\n",
        "df_movies['country_list'] = df_movies['country'].map(lambda x: re.sub(' ','',x)).\\\n",
        "                        map(lambda x: x.split(','))\n",
        "\n",
        "X_country = pd.DataFrame(mlb.fit_transform(df_movies['country_list']),\n",
        "             columns=mlb.classes_, index=df_movies.index)\n",
        "\n",
        "X_country = X_country[X_country.columns[X_country.sum()>=10]]\n",
        "\n",
        "\n",
        "#Language\n",
        "df_movies['lang_list'] = df_movies['language'].map(lambda x: re.sub(' ','',x)).\\\n",
        "                        map(lambda x: x.split(','))\n",
        "X_lang = pd.DataFrame(mlb.fit_transform(df_movies['lang_list']),\n",
        "             columns=mlb.classes_, index=df_movies.index)\n",
        "X_lang = X_lang[X_lang.columns[X_lang.sum()>=10]]\n",
        "\n",
        "# Age ratings Text\n",
        "vector_rating = TfidfVectorizer( ngram_range=(1,2), min_df=0.01, \n",
        "                        max_df=0.75, stop_words='english', sublinear_tf=True)\n",
        "ratings = df_movies['rating_text'].values\n",
        "X_rating = vector_rating.fit_transform(ratings)\n",
        "X_rating = X_rating.todense()\n",
        "X_rating= pd.DataFrame(data=X_rating, columns=vector_rating.get_feature_names_out())\n",
        "\n",
        "# Age Ratings Categories\n",
        "X_mpaa = df_movies[['rated_R','rated_PG', 'rated_PG13', 'rated_TVMA', 'rated_TV14']]\n",
        "\n",
        "# Genres\n",
        "X_genre = df_movies[genres]"
      ],
      "metadata": {
        "id": "VU2eWHSQmsAD"
      },
      "execution_count": null,
      "outputs": []
    },
    {
      "cell_type": "code",
      "source": [
        "# Merging Features\n",
        "X_mov = df_movies[['Title', 'Year', 'D_Female']].join(X_vecs).join(X_cast, rsuffix='cs').\\\n",
        "  join(X_company, rsuffix='cp').join(X_dist, rsuffix='ds').\\\n",
        "  join(X_country, rsuffix='cn').join(X_lang, rsuffix='lg').join(X_rating, rsuffix='rt').\\\n",
        "        join(X_mpaa).join(X_genre, rsuffix='gn')"
      ],
      "metadata": {
        "id": "ZV1RSUHFPC0I"
      },
      "execution_count": null,
      "outputs": []
    },
    {
      "cell_type": "code",
      "source": [
        "X_score = df_urevs[['Title', 'Year', 'Uscore', 'title_year']].merge(X_mov, on=['Title', 'Year']).drop(columns=['Title'])\n",
        "X_score['TY_code'] = X_score['title_year'].factorize()[0]\n",
        "X_score = X_score.drop(columns=['title_year'])"
      ],
      "metadata": {
        "id": "Z6ySOVWBPOaF"
      },
      "execution_count": null,
      "outputs": []
    },
    {
      "cell_type": "code",
      "source": [
        "df_urevs.loc[df_urevs['U_count']>=50]['user'].nunique()"
      ],
      "metadata": {
        "colab": {
          "base_uri": "https://localhost:8080/"
        },
        "id": "Ki2Anw81SSV2",
        "outputId": "77fba25c-9589-419e-e420-48116d10e486"
      },
      "execution_count": null,
      "outputs": [
        {
          "output_type": "execute_result",
          "data": {
            "text/plain": [
              "533"
            ]
          },
          "metadata": {},
          "execution_count": 13
        }
      ]
    },
    {
      "cell_type": "code",
      "source": [
        "#users with more than 50 reviews\n",
        "X_user = pd.get_dummies(df_urevs.loc[df_urevs['U_count']>=50]['user'])\n",
        "X_year = pd.get_dummies(df_urevs['Year'])"
      ],
      "metadata": {
        "id": "Bc4RLg-hmsAE"
      },
      "execution_count": null,
      "outputs": []
    },
    {
      "cell_type": "code",
      "source": [
        "# Creating/loading a file for storing the results\n",
        "import os.path\n",
        "import json\n",
        "if os.path.exists(data_dir + 'users_reg_results.json'):\n",
        "  with open(data_dir + 'users_reg_results.json', 'r') as input_file:\n",
        "    users_reg_results = json.load(input_file)\n",
        "else:\n",
        "  users_reg_results = {}"
      ],
      "metadata": {
        "id": "1Qv7Kjd8IHfW"
      },
      "execution_count": null,
      "outputs": []
    },
    {
      "cell_type": "code",
      "source": [
        "# Function to store results\n",
        "def reviews_reg_sum(reg_res,target_vars,target_locs):\n",
        "  results_sum = { 'main vars':target_vars, \n",
        "                 'coefs': [reg_res.params[x] for x in target_vars],\n",
        "                'std_errors': [reg_res.bse[x] for x in target_vars],\n",
        "                't_values': [reg_res.tvalues[x] for x in target_vars],\n",
        "                'conf_intervals': [ list(reg_res.conf_int().values[i]) for i in target_locs],\n",
        "                 'R_squared': reg_res.rsquared, 'adj R_squared': reg_res.rsquared_adj, 'N_Obs': reg_res.nobs}\n",
        "\n",
        "  return results_sum"
      ],
      "metadata": {
        "id": "ZC2aXPpZxnJR"
      },
      "execution_count": null,
      "outputs": []
    },
    {
      "cell_type": "code",
      "source": [
        "# Regression all users sample\n",
        "\n",
        "# DFem*Year: D_Female: No, Movie Features: Yes, D_Female*Year FE: Yes, user &\n",
        "# source FE: No , user*D_Female FE: No\n",
        "\n",
        "# Year * D_Female \n",
        "arr_year = X_year.to_numpy()\n",
        "arr_DFem = X_score['D_Female'].to_numpy()\n",
        "year_DFem = arr_year * arr_DFem[:,None]\n",
        "year_DFem_cols = ['DFem_' + str(name) for name in X_year.columns.values]\n",
        "X_year_DFem = pd.DataFrame(year_DFem, columns=year_DFem_cols, index=X_score.index.values)\n",
        "\n",
        "# Data\n",
        "data_ols = X_score.drop(columns='D_Female').join(X_year).join(X_year_DFem).dropna() \n",
        "y_ols = data_ols['Uscore']\n",
        "X_ols = data_ols.drop(columns='Uscore')\n",
        "TY = X_ols['TY_code'].values.astype(int)\n",
        "X_ols = X_ols.drop(columns=['TY_code'])\n",
        "\n",
        "y_ols.astype('float16')\n",
        "X_ols.astype('float16')\n",
        "\n",
        "reg_ols = sm.OLS(y_ols, X_ols) \n",
        "res_ols = reg_ols.fit(cov_type='cluster', cov_kwds={'groups': TY })\n",
        "\n",
        "target_vars = year_DFem_cols\n",
        "target_locs = [X_ols.columns.get_loc(var) for var in target_vars]\n",
        "\n",
        "ols_res_sum = reviews_reg_sum(res_ols,target_vars, target_locs)\n",
        "users_reg_results.update( {'all_users':ols_res_sum })\n",
        "\n",
        "with open(results_dir + 'users_reg_results.json', 'w') as outfile:\n",
        "    json.dump(users_reg_results, outfile)"
      ],
      "metadata": {
        "id": "QIQPp7auy-hc"
      },
      "execution_count": null,
      "outputs": []
    },
    {
      "cell_type": "code",
      "source": [
        "# Regression active users with fixed effects\n",
        "# DFem*Year+user FE: D_Female: No, Movie Features: Yes, D_Female*Year FE: Yes, user & source FE: Yes , user*D_Female FE:No\n",
        "\n",
        "# Year * D_Female \n",
        "arr_year = X_year.to_numpy()\n",
        "arr_DFem = X_score['D_Female'].to_numpy()\n",
        "year_DFem = arr_year * arr_DFem[:,None]\n",
        "year_DFem_cols = ['DFem_' + str(name) for name in X_year.columns.values]\n",
        "X_year_DFem = pd.DataFrame(year_DFem, columns=year_DFem_cols, index=X_score.index.values)\n",
        "\n",
        "data_ols = X_score.drop(columns='D_Female').join(X_year).join(X_year_DFem).\\\n",
        "          join(X_user, rsuffix='auth_').\\\n",
        "          join(df_urevs['U_count']).dropna()\n",
        "\n",
        "data_ols= data_ols.loc[data_ols['U_count']>=100].drop(columns=['U_count'])\n",
        "\n",
        "\n",
        "y_ols = data_ols['Uscore']\n",
        "X_ols = data_ols.drop(columns='Uscore')\n",
        "TY = X_ols['TY_code'].values.astype(int)\n",
        "X_ols = X_ols.drop(columns=['TY_code'])\n",
        "\n",
        "y_ols.astype('float16')\n",
        "X_ols.astype('float16')\n",
        "\n",
        "reg_ols = sm.OLS(y_ols, X_ols) \n",
        "res_ols = reg_ols.fit(cov_type='cluster', cov_kwds={'groups': TY })\n",
        "\n",
        "target_vars = year_DFem_cols\n",
        "target_locs = [X_ols.columns.get_loc(var) for var in target_vars]\n",
        "\n",
        "ols_res_sum = reviews_reg_sum(res_ols,target_vars, target_locs)\n",
        "users_reg_results.update( {'active_users':ols_res_sum })\n",
        "\n",
        "with open(results_dir + 'users_reg_results.json', 'w') as outfile:\n",
        "    json.dump(users_reg_results, outfile)"
      ],
      "metadata": {
        "id": "e-J6ARjF5rXs"
      },
      "execution_count": null,
      "outputs": []
    },
    {
      "cell_type": "code",
      "source": [],
      "metadata": {
        "id": "FeQ8JTkDdtoY"
      },
      "execution_count": null,
      "outputs": []
    }
  ]
}