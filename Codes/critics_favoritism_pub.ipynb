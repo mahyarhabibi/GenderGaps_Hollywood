{
  "nbformat": 4,
  "nbformat_minor": 0,
  "metadata": {
    "colab": {
      "provenance": [],
      "machine_shape": "hm",
      "authorship_tag": "ABX9TyMbr8MFFLrZti3lUM65lOsS",
      "include_colab_link": true
    },
    "kernelspec": {
      "name": "python3",
      "display_name": "Python 3"
    },
    "language_info": {
      "name": "python"
    },
    "gpuClass": "standard"
  },
  "cells": [
    {
      "cell_type": "markdown",
      "metadata": {
        "id": "view-in-github",
        "colab_type": "text"
      },
      "source": [
        "<a href=\"https://colab.research.google.com/github/mahyarhabibi/GenderGaps_Hollywood/blob/main/Codes/critics_favoritism_pub.ipynb\" target=\"_parent\"><img src=\"https://colab.research.google.com/assets/colab-badge.svg\" alt=\"Open In Colab\"/></a>"
      ]
    },
    {
      "cell_type": "markdown",
      "source": [
        "This notebook estimate the regression model specified in Equation (5) in the paper to obtain estimates of critics' biases at the individual level."
      ],
      "metadata": {
        "id": "P3cwb93rc_aQ"
      }
    },
    {
      "cell_type": "code",
      "execution_count": null,
      "metadata": {
        "id": "GelXYJw-TpL4"
      },
      "outputs": [],
      "source": [
        "import numpy as np\n",
        "import pandas as pd \n",
        "import matplotlib.pyplot as plt\n",
        "%matplotlib inline\n",
        "import seaborn as sns\n",
        "import statsmodels.api as sm\n",
        "from patsy import dmatrices\n",
        "from statsmodels.iolib.summary2 import summary_col\n",
        "import re\n",
        "import os"
      ]
    },
    {
      "cell_type": "code",
      "source": [
        "from google.colab import drive\n",
        "drive.mount('/content/gdrive')"
      ],
      "metadata": {
        "colab": {
          "base_uri": "https://localhost:8080/"
        },
        "id": "HOwpdY-8W0X1",
        "outputId": "3b20ae86-5925-479c-dbd7-b0ff81a799b8"
      },
      "execution_count": null,
      "outputs": [
        {
          "output_type": "stream",
          "name": "stdout",
          "text": [
            "Drive already mounted at /content/gdrive; to attempt to forcibly remount, call drive.mount(\"/content/gdrive\", force_remount=True).\n"
          ]
        }
      ]
    },
    {
      "cell_type": "code",
      "source": [
        "# Directories to read data and store results\n",
        "#Please add the parent folder to your Google Drive\n",
        "# Public Link: https://drive.google.com/drive/folders/1TYCDAJOCiLZw4TObcLac5GnL5YtwYnUD?usp=sharing\n",
        "parent_dir = \"/content/gdrive/MyDrive/GenderGaps_Hollywood/\" # You may need to change the address\n",
        "data_dir = os.path.join(parent_dir, 'Data/')\n",
        "results_dir = os.path.join(parent_dir,'Results/')"
      ],
      "metadata": {
        "id": "ig3TPqPDggIF"
      },
      "execution_count": null,
      "outputs": []
    },
    {
      "cell_type": "code",
      "source": [
        "# Loading Data and Predicted scores\n",
        "df_movies = pd.read_pickle(data_dir + 'movies_info_merged_MIW_pkl.zip')\n",
        "\n",
        "#Reviews\n",
        "df_crevs = pd.read_pickle(data_dir + 'reviews_critics_merged.zip')\n",
        "crev_cols = ['Title', 'Year', 'title_year' ,'source', 'author', 'score','C_count', \n",
        "             'R_count', 'C_Female', 'C_start', 'C_end', 'C_avg','C_exper']\n",
        "df_crevs = df_crevs[crev_cols]"
      ],
      "metadata": {
        "id": "x_3sNf1ZW2hX"
      },
      "execution_count": null,
      "outputs": []
    },
    {
      "cell_type": "code",
      "source": [
        "# Creating a list of genres\n",
        "genres = set(df_movies['genre'].sum())\n",
        "for gen in genres:\n",
        "    df_movies[gen] = df_movies['genre'].map(lambda x: 1 if gen in x else 0)\n",
        "    \n",
        "df_movies = df_movies.rename(columns={'Film-Noir': 'FilmNoir', 'Sci-Fi': \n",
        "                                      'SciFi', 'Reality-TV': 'RealityTV',\n",
        "                                      'Talk-Show': 'TalkShow'})\n",
        "\n",
        "genres = genres - {'Film-Noir','Sci-Fi','Reality-TV', 'Talk-Show'}\n",
        "genres = list(genres.union({'FilmNoir','SciFi','RealityTV', 'TalkShow'}))"
      ],
      "metadata": {
        "id": "Pt4Fil6FXqZj"
      },
      "execution_count": null,
      "outputs": []
    },
    {
      "cell_type": "code",
      "source": [
        "# Plots' Truncated SVD Vectors\n",
        "plot_vectors = [f'plot_vec{i}' for i in range(100)]\n",
        "X_vecs = df_movies[plot_vectors]"
      ],
      "metadata": {
        "id": "h80FTw4xhIKk"
      },
      "execution_count": null,
      "outputs": []
    },
    {
      "cell_type": "code",
      "source": [
        "#Cast\n",
        "from sklearn.preprocessing import MultiLabelBinarizer\n",
        "\n",
        "mlb = MultiLabelBinarizer()\n",
        "\n",
        "X_cast = pd.DataFrame(mlb.fit_transform(df_movies['cast']),columns=mlb.classes_, index=df_movies.index)\n",
        "\n",
        "# Keeping actors whose names showed up at least 5 times\n",
        "X_cast = X_cast[X_cast.columns[X_cast.sum()>=10]]"
      ],
      "metadata": {
        "id": "xFtbn9X2msAB"
      },
      "execution_count": null,
      "outputs": []
    },
    {
      "cell_type": "code",
      "source": [
        "# Companies with at least 10 movies\n",
        "X_company = pd.get_dummies(df_movies['company'])\n",
        "X_company = X_company[X_company.columns[X_company.sum()>=10]]\n",
        "\n",
        "# Distributors with at least 10 movies\n",
        "X_dist = pd.get_dummies(df_movies['Distributor'])\n",
        "X_dist = X_dist[X_dist.columns[X_dist.sum()>=10]]"
      ],
      "metadata": {
        "id": "6OCK5tWNmsAC"
      },
      "execution_count": null,
      "outputs": []
    },
    {
      "cell_type": "code",
      "source": [
        "#Countries\n",
        "df_movies['country_list'] = df_movies['country'].map(lambda x: re.sub(' ','',x)).\\\n",
        "                        map(lambda x: x.split(','))\n",
        "\n",
        "X_country = pd.DataFrame(mlb.fit_transform(df_movies['country_list']),\n",
        "             columns=mlb.classes_, index=df_movies.index)\n",
        "\n",
        "X_country = X_country[X_country.columns[X_country.sum()>=10]]\n",
        "\n",
        "#Language\n",
        "df_movies['lang_list'] = df_movies['language'].map(lambda x: re.sub(' ','',x)).\\\n",
        "                        map(lambda x: x.split(','))\n",
        "X_lang = pd.DataFrame(mlb.fit_transform(df_movies['lang_list']),\n",
        "             columns=mlb.classes_, index=df_movies.index)\n",
        "X_lang = X_lang[X_lang.columns[X_lang.sum()>=10]]\n",
        "\n",
        "\n",
        "# Age Ratings Categories\n",
        "X_mpaa = df_movies[['rated_R','rated_PG', 'rated_PG13', 'rated_TVMA', 'rated_TV14']]\n",
        "\n",
        "# Genres\n",
        "X_genre = df_movies[genres]"
      ],
      "metadata": {
        "id": "VU2eWHSQmsAD"
      },
      "execution_count": null,
      "outputs": []
    },
    {
      "cell_type": "code",
      "source": [
        "# Merging Features\n",
        "X_mov = df_movies[['Title', 'Year', 'D_Female']].join(X_vecs).join(X_cast, rsuffix='cs').\\\n",
        "  join(X_company, rsuffix='cp').join(X_dist, rsuffix='ds').\\\n",
        "  join(X_country, rsuffix='cn').join(X_lang, rsuffix='lg').\\\n",
        "        join(X_mpaa).join(X_genre, rsuffix='gn')\n",
        "\n",
        "\n",
        "X_score = df_crevs[['Title', 'Year', 'score', 'title_year']].\\\n",
        "      merge(X_mov, on=['Title', 'Year']).drop(columns=['Title'])\n",
        "\n",
        "  \n",
        "X_score['TY_code'] = X_score['title_year'].factorize()[0]\n",
        "X_score = X_score.drop(columns=['title_year'])\n",
        "X_source = pd.get_dummies(df_crevs['source'])\n",
        "\n",
        "#Critics with more than 50 reviews\n",
        "X_author = pd.get_dummies(df_crevs['author'])\n",
        "X_author = X_author[X_author.columns[X_author.sum()>=100]]\n",
        "\n",
        "X_year = pd.get_dummies(df_crevs['Year'])"
      ],
      "metadata": {
        "id": "Bc4RLg-hmsAE"
      },
      "execution_count": null,
      "outputs": []
    },
    {
      "cell_type": "code",
      "source": [
        "# Creating/loading a file for storing the results\n",
        "import os.path\n",
        "import json\n",
        "if os.path.exists(results_dir + 'critics_reg_results.json'):\n",
        "  with open(results_dir + 'critics_reg_results.json', 'r') as input_file:\n",
        "    critics_reg_results = json.load(input_file)\n",
        "else:\n",
        "  critics_reg_results = {}"
      ],
      "metadata": {
        "id": "1Qv7Kjd8IHfW"
      },
      "execution_count": null,
      "outputs": []
    },
    {
      "cell_type": "code",
      "source": [
        "def reviews_reg_sum(reg_res,target_vars,target_locs):\n",
        "  results_sum = { 'main vars':target_vars, \n",
        "                 'coefs': [reg_res.params[x] for x in target_vars],\n",
        "                'std_errors': [reg_res.bse[x] for x in target_vars],\n",
        "                't_values': [reg_res.tvalues[x] for x in target_vars],\n",
        "                 'p_values': [reg_res.pvalues[x] for x in target_vars],\n",
        "                'conf_intervals': [ list(reg_res.conf_int().values[i]) for i in target_locs],\n",
        "                 'R_squared': reg_res.rsquared, 'adj R_squared': reg_res.rsquared_adj, 'N_Obs': reg_res.nobs}\n",
        "\n",
        "  return results_sum"
      ],
      "metadata": {
        "id": "ZC2aXPpZxnJR"
      },
      "execution_count": null,
      "outputs": []
    },
    {
      "cell_type": "markdown",
      "source": [
        "# Matrix Factorization: Estimating Authors' Discrimination"
      ],
      "metadata": {
        "id": "-1QEbz03D2sR"
      }
    },
    {
      "cell_type": "code",
      "source": [
        "# Loading preference scores\n",
        "df_preds = pd.read_pickle(data_dir + 'critic_predicted_scores.pkl')\n",
        "df_preds = df_preds.rename(columns= {'Author': 'author'})"
      ],
      "metadata": {
        "id": "LC6uYAh6D-UX"
      },
      "execution_count": null,
      "outputs": []
    },
    {
      "cell_type": "code",
      "source": [
        "# Merge with movie-characteristics dataset\n",
        "df_cpreds = df_crevs.merge(df_preds[['title_year', 'author', 'predicted_score']],\n",
        "                          on=['title_year', 'author'], how='left')"
      ],
      "metadata": {
        "id": "eTQ_YH-XH8zg"
      },
      "execution_count": null,
      "outputs": []
    },
    {
      "cell_type": "code",
      "source": [
        "# # Construct Data Matrices\n",
        "\n",
        "X_pscore = X_score.join(df_cpreds['predicted_score'])\n",
        "# Author * D_Female \n",
        "arr_author = X_author.to_numpy()\n",
        "arr_DFem = X_pscore['D_Female'].to_numpy()\n",
        "author_DFem = arr_author * arr_DFem[:,None]\n",
        "\n",
        "\n",
        "author_DFem_cols = ['DFem_x_' + str(name) for name in X_author.columns.values]\n",
        "X_author_DFem = pd.DataFrame(author_DFem, columns=author_DFem_cols,\n",
        "                             index=X_pscore.index.values)\n",
        "\n",
        "\n",
        "data_ols = X_pscore.join(X_year).join(X_source,rsuffix='src_').\\\n",
        "            join(X_author, lsuffix='mv').join(X_author_DFem).dropna() \n",
        "\n",
        "\n",
        "y_ols = data_ols['score']\n",
        "X_ols = data_ols.drop(columns=['score'])\n",
        "TY = X_ols['TY_code'].values.astype(int)\n",
        "X_ols = X_ols.drop(columns=['TY_code'])\n"
      ],
      "metadata": {
        "id": "-ITLU0nIUtja"
      },
      "execution_count": null,
      "outputs": []
    },
    {
      "cell_type": "code",
      "source": [
        "# Estimating critics personal favoritism controlling preference scores\n",
        "\n",
        "reg_ols = sm.OLS(y_ols, X_ols) \n",
        "res_ols = reg_ols.fit(cov_type='cluster', cov_kwds={'groups': TY })\n",
        "\n",
        "# Identifying Authors in the covariates\n",
        "all_authors = set(X_author.columns.values)\n",
        "all_cols = set(X_ols.columns.values)\n",
        "authors = list(all_authors.intersection(all_cols))\n",
        "target_vars = ['D_Female', 'predicted_score'] + author_DFem_cols \n",
        "target_locs = [X_ols.columns.get_loc(var) for var in target_vars]\n",
        "\n",
        "ols_res_sum = reviews_reg_sum(res_ols,target_vars, target_locs)\n",
        "critics_reg_results.update( {'critics_indiv_bias_with_pred_score':ols_res_sum })\n",
        "\n",
        "with open(results_dir + 'critics_reg_results.json', 'w') as outfile:\n",
        "    json.dump(critics_reg_results, outfile)"
      ],
      "metadata": {
        "id": "iyySYS1EZUB2"
      },
      "execution_count": null,
      "outputs": []
    },
    {
      "cell_type": "code",
      "source": [
        "# Without Controlling For preference Scores\n",
        "\n",
        "X_ols = X_ols.drop(columns = ['predicted_score'])\n",
        "\n",
        "reg_ols = sm.OLS(y_ols, X_ols) \n",
        "res_ols = reg_ols.fit(cov_type='cluster', cov_kwds={'groups': TY })\n",
        "\n",
        "target_vars = ['D_Female'] + author_DFem_cols \n",
        "target_locs = [X_ols.columns.get_loc(var) for var in target_vars]\n",
        "\n",
        "ols_res_sum = reviews_reg_sum(res_ols,target_vars, target_locs)\n",
        "critics_reg_results.update( {'critics_indiv_bias_wo_pred_score':ols_res_sum })\n",
        "\n",
        "with open(results_dir + 'critics_reg_results.json', 'w') as outfile:\n",
        "    json.dump(critics_reg_results, outfile)\n"
      ],
      "metadata": {
        "id": "V8GU0THPL0IC"
      },
      "execution_count": null,
      "outputs": []
    }
  ]
}