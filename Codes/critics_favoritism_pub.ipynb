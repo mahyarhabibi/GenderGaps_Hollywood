{
  "nbformat": 4,
  "nbformat_minor": 0,
  "metadata": {
    "colab": {
      "provenance": [],
      "machine_shape": "hm",
      "authorship_tag": "ABX9TyMGBMOsT4zZKAwVSK0G9lp7",
      "include_colab_link": true
    },
    "kernelspec": {
      "name": "python3",
      "display_name": "Python 3"
    },
    "language_info": {
      "name": "python"
    },
    "gpuClass": "standard"
  },
  "cells": [
    {
      "cell_type": "markdown",
      "metadata": {
        "id": "view-in-github",
        "colab_type": "text"
      },
      "source": [
        "<a href=\"https://colab.research.google.com/github/mahyarhabibi/GenderGaps_Hollywood/blob/main/Codes/critics_favoritism_pub.ipynb\" target=\"_parent\"><img src=\"https://colab.research.google.com/assets/colab-badge.svg\" alt=\"Open In Colab\"/></a>"
      ]
    },
    {
      "cell_type": "markdown",
      "source": [
        "This notebook estimate the regression model specified in Equation (5) in the paper to obtain estimates of critics' biases at the individual level."
      ],
      "metadata": {
        "id": "P3cwb93rc_aQ"
      }
    },
    {
      "cell_type": "code",
      "execution_count": null,
      "metadata": {
        "id": "GelXYJw-TpL4"
      },
      "outputs": [],
      "source": [
        "import numpy as np\n",
        "import pandas as pd \n",
        "import matplotlib.pyplot as plt\n",
        "%matplotlib inline\n",
        "import seaborn as sns\n",
        "import statsmodels.api as sm\n",
        "from patsy import dmatrices\n",
        "from statsmodels.iolib.summary2 import summary_col\n",
        "import re\n",
        "from sklearn.feature_extraction.text import TfidfVectorizer"
      ]
    },
    {
      "cell_type": "code",
      "source": [
        "from google.colab import drive\n",
        "drive.mount('/content/gdrive')"
      ],
      "metadata": {
        "colab": {
          "base_uri": "https://localhost:8080/"
        },
        "id": "HOwpdY-8W0X1",
        "outputId": "03ed75e7-8345-424f-f457-3f3687b890f8"
      },
      "execution_count": null,
      "outputs": [
        {
          "output_type": "stream",
          "name": "stdout",
          "text": [
            "Drive already mounted at /content/gdrive; to attempt to forcibly remount, call drive.mount(\"/content/gdrive\", force_remount=True).\n"
          ]
        }
      ]
    },
    {
      "cell_type": "code",
      "source": [
        "# Directories to read data and store results\n",
        "#Please add the parent folder to your Google Drive\n",
        "# Public Link: https://drive.google.com/drive/folders/1TYCDAJOCiLZw4TObcLac5GnL5YtwYnUD?usp=sharing\n",
        "parent_dir = \"/content/gdrive/MyDrive/GenderGaps_Hollywood/\" # You may need to change the address\n",
        "data_dir = os.path.join(parent_dir, 'Data/')\n",
        "results_dir = os.path.join(parent_dir,'Results/')"
      ],
      "metadata": {
        "id": "ig3TPqPDggIF"
      },
      "execution_count": null,
      "outputs": []
    },
    {
      "cell_type": "code",
      "source": [
        "# Loading Data and Predicted scores\n",
        "df_movies = pd.read_pickle(data_dir + 'movies_info_merged_MIW_pkl.zip')\n",
        "\n",
        "#Reviews\n",
        "df_crevs = pd.read_pickle(data_dir + 'reviews_critics_merged.zip')\n",
        "crev_cols = ['Title', 'Year', 'title_year' ,'source', 'author', 'score','C_count', \n",
        "             'R_count', 'C_Female', 'C_start', 'C_end', 'C_avg','C_exper']\n",
        "df_crevs = df_crevs[crev_cols]"
      ],
      "metadata": {
        "id": "x_3sNf1ZW2hX"
      },
      "execution_count": null,
      "outputs": []
    },
    {
      "cell_type": "code",
      "source": [
        "# Creating a list of genres\n",
        "genres = set(df_movies['genre'].sum())\n",
        "for gen in genres:\n",
        "    df_movies[gen] = df_movies['genre'].map(lambda x: 1 if gen in x else 0)\n",
        "    \n",
        "df_movies = df_movies.rename(columns={'Film-Noir': 'FilmNoir', 'Sci-Fi': \n",
        "                                      'SciFi', 'Reality-TV': 'RealityTV',\n",
        "                                      'Talk-Show': 'TalkShow'})\n",
        "\n",
        "genres = genres - {'Film-Noir','Sci-Fi','Reality-TV', 'Talk-Show'}\n",
        "genres = list(genres.union({'FilmNoir','SciFi','RealityTV', 'TalkShow'}))"
      ],
      "metadata": {
        "id": "Pt4Fil6FXqZj"
      },
      "execution_count": null,
      "outputs": []
    },
    {
      "cell_type": "code",
      "source": [
        "# Plots' Truncated SVD Vectors\n",
        "plot_vectors = [f'plot_vec{i}' for i in range(100)]\n",
        "X_vecs = df_movies[plot_vectors]"
      ],
      "metadata": {
        "id": "h80FTw4xhIKk"
      },
      "execution_count": null,
      "outputs": []
    },
    {
      "cell_type": "code",
      "source": [
        "#Cast\n",
        "from sklearn.preprocessing import MultiLabelBinarizer\n",
        "\n",
        "mlb = MultiLabelBinarizer()\n",
        "\n",
        "X_cast = pd.DataFrame(mlb.fit_transform(df_movies['cast']),columns=mlb.classes_, index=df_movies.index)\n",
        "\n",
        "# Keeping actors whose names showed up at least 5 times\n",
        "X_cast = X_cast[X_cast.columns[X_cast.sum()>=10]]"
      ],
      "metadata": {
        "id": "xFtbn9X2msAB"
      },
      "execution_count": null,
      "outputs": []
    },
    {
      "cell_type": "code",
      "source": [
        "# Companies with at least 10 movies\n",
        "X_company = pd.get_dummies(df_movies['company'])\n",
        "X_company = X_company[X_company.columns[X_company.sum()>=10]]\n",
        "\n",
        "# Distributors with at least 10 movies\n",
        "X_dist = pd.get_dummies(df_movies['Distributor'])\n",
        "X_dist = X_dist[X_dist.columns[X_dist.sum()>=10]]"
      ],
      "metadata": {
        "id": "6OCK5tWNmsAC"
      },
      "execution_count": null,
      "outputs": []
    },
    {
      "cell_type": "code",
      "source": [
        "#Countries\n",
        "df_movies['country_list'] = df_movies['country'].map(lambda x: re.sub(' ','',x)).\\\n",
        "                        map(lambda x: x.split(','))\n",
        "\n",
        "X_country = pd.DataFrame(mlb.fit_transform(df_movies['country_list']),\n",
        "             columns=mlb.classes_, index=df_movies.index)\n",
        "\n",
        "X_country = X_country[X_country.columns[X_country.sum()>=10]]\n",
        "\n",
        "#Language\n",
        "df_movies['lang_list'] = df_movies['language'].map(lambda x: re.sub(' ','',x)).\\\n",
        "                        map(lambda x: x.split(','))\n",
        "X_lang = pd.DataFrame(mlb.fit_transform(df_movies['lang_list']),\n",
        "             columns=mlb.classes_, index=df_movies.index)\n",
        "X_lang = X_lang[X_lang.columns[X_lang.sum()>=10]]\n",
        "\n",
        "# Age ratings Text\n",
        "vector_rating = TfidfVectorizer( ngram_range=(1,2), min_df=0.01, \n",
        "                        max_df=0.75, stop_words='english', sublinear_tf=True)\n",
        "ratings = df_movies['rating_text'].values\n",
        "X_rating = vector_rating.fit_transform(ratings)\n",
        "X_rating = X_rating.todense()\n",
        "X_rating= pd.DataFrame(data=X_rating, columns=vector_rating.get_feature_names_out())\n",
        "\n",
        "# Age Ratings Categories\n",
        "X_mpaa = df_movies[['rated_R','rated_PG', 'rated_PG13', 'rated_TVMA', 'rated_TV14']]\n",
        "\n",
        "# Genres\n",
        "X_genre = df_movies[genres]"
      ],
      "metadata": {
        "id": "VU2eWHSQmsAD"
      },
      "execution_count": null,
      "outputs": []
    },
    {
      "cell_type": "code",
      "source": [
        "# Merging Features\n",
        "X_mov = df_movies[['Title', 'Year', 'D_Female']].join(X_vecs).join(X_cast, rsuffix='cs').\\\n",
        "  join(X_company, rsuffix='cp').join(X_dist, rsuffix='ds').\\\n",
        "  join(X_country, rsuffix='cn').join(X_lang, rsuffix='lg').join(X_rating, rsuffix='rt').\\\n",
        "        join(X_mpaa).join(X_genre, rsuffix='gn')\n",
        "\n",
        "\n",
        "X_score = df_crevs[['Title', 'Year', 'score', 'title_year']].\\\n",
        "      merge(X_mov, on=['Title', 'Year']).drop(columns=['Title'])\n",
        "\n",
        "  \n",
        "X_score['TY_code'] = X_score['title_year'].factorize()[0]\n",
        "X_score = X_score.drop(columns=['title_year'])\n",
        "X_source = pd.get_dummies(df_crevs['source'])\n",
        "\n",
        "#Critics with more than 50 reviews\n",
        "X_author = pd.get_dummies(df_crevs['author'])\n",
        "X_author = X_author[X_author.columns[X_author.sum()>=100]]\n",
        "\n",
        "X_year = pd.get_dummies(df_crevs['Year'])"
      ],
      "metadata": {
        "id": "Bc4RLg-hmsAE"
      },
      "execution_count": null,
      "outputs": []
    },
    {
      "cell_type": "code",
      "source": [
        "# Creating/loading a file for storing the results\n",
        "import os.path\n",
        "import json\n",
        "if os.path.exists(results_dir + 'critics_reg_results.json'):\n",
        "  with open(results_dir + 'critics_reg_results.json', 'r') as input_file:\n",
        "    critics_reg_results = json.load(input_file)\n",
        "else:\n",
        "  critics_reg_results = {}"
      ],
      "metadata": {
        "id": "1Qv7Kjd8IHfW"
      },
      "execution_count": null,
      "outputs": []
    },
    {
      "cell_type": "code",
      "source": [
        "def reviews_reg_sum(reg_res,target_vars,target_locs):\n",
        "  results_sum = { 'main vars':target_vars, \n",
        "                 'coefs': [reg_res.params[x] for x in target_vars],\n",
        "                'std_errors': [reg_res.bse[x] for x in target_vars],\n",
        "                't_values': [reg_res.tvalues[x] for x in target_vars],\n",
        "                 'p_values': [reg_res.pvalues[x] for x in target_vars],\n",
        "                'conf_intervals': [ list(reg_res.conf_int().values[i]) for i in target_locs],\n",
        "                 'R_squared': reg_res.rsquared, 'adj R_squared': reg_res.rsquared_adj, 'N_Obs': reg_res.nobs}\n",
        "\n",
        "  return results_sum"
      ],
      "metadata": {
        "id": "ZC2aXPpZxnJR"
      },
      "execution_count": null,
      "outputs": []
    },
    {
      "cell_type": "markdown",
      "source": [
        "# Matrix Factorization: Estimating Authors' Discrimination"
      ],
      "metadata": {
        "id": "-1QEbz03D2sR"
      }
    },
    {
      "cell_type": "code",
      "source": [
        "# Loading preference scores\n",
        "df_preds = pd.read_pickle(data_dir + 'critic_predicted_scores.pkl')\n",
        "df_preds = df_preds.rename(columns= {'Author': 'author'})"
      ],
      "metadata": {
        "id": "LC6uYAh6D-UX"
      },
      "execution_count": null,
      "outputs": []
    },
    {
      "cell_type": "code",
      "source": [
        "# Merge with movie-characteristics dataset\n",
        "df_cpreds = df_crevs.merge(df_preds[['title_year', 'author', 'predicted_score']],\n",
        "                          on=['title_year', 'author'], how='left')"
      ],
      "metadata": {
        "id": "eTQ_YH-XH8zg"
      },
      "execution_count": null,
      "outputs": []
    },
    {
      "cell_type": "code",
      "source": [
        "# # Construct Data Matrices\n",
        "\n",
        "X_pscore = X_score.join(df_cpreds['predicted_score'])\n",
        "# Author * D_Female \n",
        "arr_author = X_author.to_numpy()\n",
        "arr_DFem = X_pscore['D_Female'].to_numpy()\n",
        "author_DFem = arr_author * arr_DFem[:,None]\n",
        "\n",
        "\n",
        "author_DFem_cols = ['DFem_x_' + str(name) for name in X_author.columns.values]\n",
        "X_author_DFem = pd.DataFrame(author_DFem, columns=author_DFem_cols,\n",
        "                             index=X_pscore.index.values)\n",
        "\n",
        "\n",
        "data_ols = X_pscore.join(X_year).join(X_source,rsuffix='src_').\\\n",
        "            join(X_author, lsuffix='mv').join(X_author_DFem).dropna() \n",
        "\n",
        "\n",
        "y_ols = data_ols['score']\n",
        "X_ols = data_ols.drop(columns=['score'])\n",
        "TY = X_ols['TY_code'].values.astype(int)\n",
        "X_ols = X_ols.drop(columns=['TY_code'])\n"
      ],
      "metadata": {
        "id": "-ITLU0nIUtja"
      },
      "execution_count": null,
      "outputs": []
    },
    {
      "cell_type": "code",
      "source": [
        "# Estimating critics personal favoritism controlling preference scores\n",
        "\n",
        "reg_ols = sm.OLS(y_ols, X_ols) \n",
        "res_ols = reg_ols.fit(cov_type='cluster', cov_kwds={'groups': TY })\n",
        "\n",
        "# Identifying Authors in the covariates\n",
        "all_authors = set(X_author.columns.values)\n",
        "all_cols = set(X_ols.columns.values)\n",
        "authors = list(all_authors.intersection(all_cols))\n",
        "target_vars = ['D_Female', 'predicted_score'] + author_DFem_cols \n",
        "target_locs = [X_ols.columns.get_loc(var) for var in target_vars]\n",
        "\n",
        "ols_res_sum = reviews_reg_sum(res_ols,target_vars, target_locs)\n",
        "critics_reg_results.update( {'critics_indiv_bias_with_pred_score':ols_res_sum })\n",
        "\n",
        "with open(results_dir + 'critics_reg_results.json', 'w') as outfile:\n",
        "    json.dump(critics_reg_results, outfile)"
      ],
      "metadata": {
        "id": "iyySYS1EZUB2"
      },
      "execution_count": null,
      "outputs": []
    },
    {
      "cell_type": "code",
      "source": [
        "# Without Controlling For preference Scores\n",
        "\n",
        "X_ols = X_ols.drop(columns = ['predicted_score'])\n",
        "\n",
        "reg_ols = sm.OLS(y_ols, X_ols) \n",
        "res_ols = reg_ols.fit(cov_type='cluster', cov_kwds={'groups': TY })\n",
        "\n",
        "target_vars = ['D_Female'] + author_DFem_cols \n",
        "target_locs = [X_ols.columns.get_loc(var) for var in target_vars]\n",
        "\n",
        "ols_res_sum = reviews_reg_sum(res_ols,target_vars, target_locs)\n",
        "critics_reg_results.update( {'critics_indiv_bias_wo_pred_score':ols_res_sum })\n",
        "\n",
        "with open(results_dir + 'critics_reg_results.json', 'w') as outfile:\n",
        "    json.dump(critics_reg_results, outfile)\n"
      ],
      "metadata": {
        "id": "V8GU0THPL0IC"
      },
      "execution_count": null,
      "outputs": []
    },
    {
      "cell_type": "code",
      "source": [
        "# Stroing the results when pred scores are included\n",
        "var_authors_wt_pred = critics_reg_results['critics_indiv_bias_with_pred_score']\\\n",
        "                      ['main vars'][2:]\n",
        "tval_authors_wt_pred = critics_reg_results['critics_indiv_bias_with_pred_score']\\\n",
        "                      ['t_values'][2:]\n",
        "pval_authors_wt_pred = critics_reg_results['critics_indiv_bias_with_pred_score']\\\n",
        "                      ['p_values'][2:]\n",
        "coef_authors_wt_pred = critics_reg_results['critics_indiv_bias_with_pred_score']\\\n",
        "                      ['coefs'][2:]\n",
        "df_authors_disc_wt_pred = pd.DataFrame(data={'author': var_authors_wt_pred, \n",
        "                                             'coef': coef_authors_wt_pred,\n",
        "                                    't-value': tval_authors_wt_pred, \n",
        "                                    'p-value': pval_authors_wt_pred})\n",
        "\n",
        "df_authors_disc_wt_pred = df_authors_disc_wt_pred.loc[np.abs(df_authors_disc_wt_pred['coef'])>1e-10]"
      ],
      "metadata": {
        "id": "paLz2g54moVr"
      },
      "execution_count": null,
      "outputs": []
    },
    {
      "cell_type": "code",
      "source": [
        "# Stroing the results when pred scores are not included\n",
        "var_authors_wo_pred = critics_reg_results['critics_indiv_bias_wo_pred_score']\\\n",
        "                      ['main vars'][2:]\n",
        "tval_authors_wo_pred = critics_reg_results['critics_indiv_bias_wo_pred_score']\\\n",
        "                      ['t_values'][2:]\n",
        "pval_authors_wo_pred = critics_reg_results['critics_indiv_bias_wo_pred_score']\\\n",
        "                      ['p_values'][2:]\n",
        "coef_authors_wo_pred = critics_reg_results['critics_indiv_bias_wo_pred_score']\\\n",
        "                      ['coefs'][2:]\n",
        "df_authors_disc_wo_pred = pd.DataFrame(data={'author': var_authors_wo_pred, \n",
        "                                             'coef': coef_authors_wo_pred,\n",
        "                                    't-value': tval_authors_wo_pred, \n",
        "                                    'p-value': pval_authors_wo_pred})\n",
        "\n",
        "df_authors_disc_wt_pred = df_authors_disc_wt_pred.loc[np.abs(df_authors_disc_wt_pred['coef'])>1e-10]"
      ],
      "metadata": {
        "id": "unIZP5rHPdom"
      },
      "execution_count": null,
      "outputs": []
    },
    {
      "cell_type": "code",
      "source": [
        "df_authors_disc = df_authors_disc_wt_pred.merge(df_authors_disc_wo_pred, \n",
        "                                   on='author', suffixes = (None, '_wo_pred'))"
      ],
      "metadata": {
        "id": "0xYExbdORt9k"
      },
      "execution_count": null,
      "outputs": []
    },
    {
      "cell_type": "code",
      "source": [
        "df_authors_disc[['coef', 'coef_wo_pred']].describe()"
      ],
      "metadata": {
        "colab": {
          "base_uri": "https://localhost:8080/",
          "height": 300
        },
        "id": "ub1SaoN0biWP",
        "outputId": "067280da-eb11-4074-f6d1-e15c08300148"
      },
      "execution_count": null,
      "outputs": [
        {
          "output_type": "execute_result",
          "data": {
            "text/plain": [
              "             coef  coef_wo_pred\n",
              "count  371.000000    371.000000\n",
              "mean     0.000563     -0.006487\n",
              "std      4.039355      4.755263\n",
              "min    -14.422980    -17.051614\n",
              "25%     -2.332430     -2.921708\n",
              "50%     -0.017591     -0.014706\n",
              "75%      2.211066      2.625244\n",
              "max     15.787749     18.662486"
            ],
            "text/html": [
              "\n",
              "  <div id=\"df-e8d65a98-17dd-4a96-be68-eb724ea22298\">\n",
              "    <div class=\"colab-df-container\">\n",
              "      <div>\n",
              "<style scoped>\n",
              "    .dataframe tbody tr th:only-of-type {\n",
              "        vertical-align: middle;\n",
              "    }\n",
              "\n",
              "    .dataframe tbody tr th {\n",
              "        vertical-align: top;\n",
              "    }\n",
              "\n",
              "    .dataframe thead th {\n",
              "        text-align: right;\n",
              "    }\n",
              "</style>\n",
              "<table border=\"1\" class=\"dataframe\">\n",
              "  <thead>\n",
              "    <tr style=\"text-align: right;\">\n",
              "      <th></th>\n",
              "      <th>coef</th>\n",
              "      <th>coef_wo_pred</th>\n",
              "    </tr>\n",
              "  </thead>\n",
              "  <tbody>\n",
              "    <tr>\n",
              "      <th>count</th>\n",
              "      <td>371.000000</td>\n",
              "      <td>371.000000</td>\n",
              "    </tr>\n",
              "    <tr>\n",
              "      <th>mean</th>\n",
              "      <td>0.000563</td>\n",
              "      <td>-0.006487</td>\n",
              "    </tr>\n",
              "    <tr>\n",
              "      <th>std</th>\n",
              "      <td>4.039355</td>\n",
              "      <td>4.755263</td>\n",
              "    </tr>\n",
              "    <tr>\n",
              "      <th>min</th>\n",
              "      <td>-14.422980</td>\n",
              "      <td>-17.051614</td>\n",
              "    </tr>\n",
              "    <tr>\n",
              "      <th>25%</th>\n",
              "      <td>-2.332430</td>\n",
              "      <td>-2.921708</td>\n",
              "    </tr>\n",
              "    <tr>\n",
              "      <th>50%</th>\n",
              "      <td>-0.017591</td>\n",
              "      <td>-0.014706</td>\n",
              "    </tr>\n",
              "    <tr>\n",
              "      <th>75%</th>\n",
              "      <td>2.211066</td>\n",
              "      <td>2.625244</td>\n",
              "    </tr>\n",
              "    <tr>\n",
              "      <th>max</th>\n",
              "      <td>15.787749</td>\n",
              "      <td>18.662486</td>\n",
              "    </tr>\n",
              "  </tbody>\n",
              "</table>\n",
              "</div>\n",
              "      <button class=\"colab-df-convert\" onclick=\"convertToInteractive('df-e8d65a98-17dd-4a96-be68-eb724ea22298')\"\n",
              "              title=\"Convert this dataframe to an interactive table.\"\n",
              "              style=\"display:none;\">\n",
              "        \n",
              "  <svg xmlns=\"http://www.w3.org/2000/svg\" height=\"24px\"viewBox=\"0 0 24 24\"\n",
              "       width=\"24px\">\n",
              "    <path d=\"M0 0h24v24H0V0z\" fill=\"none\"/>\n",
              "    <path d=\"M18.56 5.44l.94 2.06.94-2.06 2.06-.94-2.06-.94-.94-2.06-.94 2.06-2.06.94zm-11 1L8.5 8.5l.94-2.06 2.06-.94-2.06-.94L8.5 2.5l-.94 2.06-2.06.94zm10 10l.94 2.06.94-2.06 2.06-.94-2.06-.94-.94-2.06-.94 2.06-2.06.94z\"/><path d=\"M17.41 7.96l-1.37-1.37c-.4-.4-.92-.59-1.43-.59-.52 0-1.04.2-1.43.59L10.3 9.45l-7.72 7.72c-.78.78-.78 2.05 0 2.83L4 21.41c.39.39.9.59 1.41.59.51 0 1.02-.2 1.41-.59l7.78-7.78 2.81-2.81c.8-.78.8-2.07 0-2.86zM5.41 20L4 18.59l7.72-7.72 1.47 1.35L5.41 20z\"/>\n",
              "  </svg>\n",
              "      </button>\n",
              "      \n",
              "  <style>\n",
              "    .colab-df-container {\n",
              "      display:flex;\n",
              "      flex-wrap:wrap;\n",
              "      gap: 12px;\n",
              "    }\n",
              "\n",
              "    .colab-df-convert {\n",
              "      background-color: #E8F0FE;\n",
              "      border: none;\n",
              "      border-radius: 50%;\n",
              "      cursor: pointer;\n",
              "      display: none;\n",
              "      fill: #1967D2;\n",
              "      height: 32px;\n",
              "      padding: 0 0 0 0;\n",
              "      width: 32px;\n",
              "    }\n",
              "\n",
              "    .colab-df-convert:hover {\n",
              "      background-color: #E2EBFA;\n",
              "      box-shadow: 0px 1px 2px rgba(60, 64, 67, 0.3), 0px 1px 3px 1px rgba(60, 64, 67, 0.15);\n",
              "      fill: #174EA6;\n",
              "    }\n",
              "\n",
              "    [theme=dark] .colab-df-convert {\n",
              "      background-color: #3B4455;\n",
              "      fill: #D2E3FC;\n",
              "    }\n",
              "\n",
              "    [theme=dark] .colab-df-convert:hover {\n",
              "      background-color: #434B5C;\n",
              "      box-shadow: 0px 1px 3px 1px rgba(0, 0, 0, 0.15);\n",
              "      filter: drop-shadow(0px 1px 2px rgba(0, 0, 0, 0.3));\n",
              "      fill: #FFFFFF;\n",
              "    }\n",
              "  </style>\n",
              "\n",
              "      <script>\n",
              "        const buttonEl =\n",
              "          document.querySelector('#df-e8d65a98-17dd-4a96-be68-eb724ea22298 button.colab-df-convert');\n",
              "        buttonEl.style.display =\n",
              "          google.colab.kernel.accessAllowed ? 'block' : 'none';\n",
              "\n",
              "        async function convertToInteractive(key) {\n",
              "          const element = document.querySelector('#df-e8d65a98-17dd-4a96-be68-eb724ea22298');\n",
              "          const dataTable =\n",
              "            await google.colab.kernel.invokeFunction('convertToInteractive',\n",
              "                                                     [key], {});\n",
              "          if (!dataTable) return;\n",
              "\n",
              "          const docLinkHtml = 'Like what you see? Visit the ' +\n",
              "            '<a target=\"_blank\" href=https://colab.research.google.com/notebooks/data_table.ipynb>data table notebook</a>'\n",
              "            + ' to learn more about interactive tables.';\n",
              "          element.innerHTML = '';\n",
              "          dataTable['output_type'] = 'display_data';\n",
              "          await google.colab.output.renderOutput(dataTable, element);\n",
              "          const docLink = document.createElement('div');\n",
              "          docLink.innerHTML = docLinkHtml;\n",
              "          element.appendChild(docLink);\n",
              "        }\n",
              "      </script>\n",
              "    </div>\n",
              "  </div>\n",
              "  "
            ]
          },
          "metadata": {},
          "execution_count": 31
        }
      ]
    },
    {
      "cell_type": "code",
      "source": [
        "# Figure\n",
        "sns.set(font_scale=1.2)\n",
        "fig, axes = plt.subplots(1,2, figsize=(12,6))\n",
        "sns.histplot(ax= axes[0], x=df_authors_disc['coef'], stat='density', color = 'black', bins=30)\n",
        "sns.histplot(ax= axes[0], x=df_authors_disc['coef_wo_pred'], stat='density', color='lightcoral', bins=30)\n",
        "\n",
        "sns.scatterplot(ax= axes[1], x=df_authors_disc['coef'], \n",
        "                y=df_authors_disc['coef_wo_pred'])\n",
        "# sns.scatterplot(ax= axes[1], x=df_authors_disc_wo_pred['coef'], \n",
        "#                 y=df_authors_disc_wo_pred['t-value'])\n",
        "\n",
        "axes[0].set_xlabel(' Est. Magnitude of Dicrimination (pp)')\n",
        "axes[1].set_xlabel(' Est. Coefficient of Dicrimination (pp)')"
      ],
      "metadata": {
        "id": "51Udnc5ienge",
        "colab": {
          "base_uri": "https://localhost:8080/",
          "height": 416
        },
        "outputId": "9e869035-ee57-4f13-fb6a-cd904c81447f"
      },
      "execution_count": null,
      "outputs": [
        {
          "output_type": "execute_result",
          "data": {
            "text/plain": [
              "Text(0.5, 0, ' Est. Coefficient of Dicrimination (pp)')"
            ]
          },
          "metadata": {},
          "execution_count": 32
        },
        {
          "output_type": "display_data",
          "data": {
            "text/plain": [
              "<Figure size 864x432 with 2 Axes>"
            ],
            "image/png": "[encoded data removed]"
          },
          "metadata": {}
        }
      ]
    },
    {
      "cell_type": "code",
      "execution_count": null,
      "metadata": {
        "id": "01de7f2b",
        "colab": {
          "base_uri": "https://localhost:8080/"
        },
        "outputId": "4f2c779c-71d6-4c26-92a8-2af57a3c7ce0"
      },
      "outputs": [
        {
          "output_type": "stream",
          "name": "stdout",
          "text": [
            "Total Number of Authors: 371\n",
            "Number of Biased Authors: 13\n"
          ]
        }
      ],
      "source": [
        "# Benjamini-Hochberg False Discovery Rate_ with predictions\n",
        "df_authors_sorted = df_authors_disc.sort_values(by='p-value', ignore_index=True)\n",
        "CDpval_sorted = df_authors_sorted['p-value']\n",
        "n_C = len(CDpval_sorted)\n",
        "q = 0.1\n",
        "\n",
        "# Benjamini-Hochberg FDR Control\n",
        "C_reject = [[df_authors_sorted['author'][idx], df_authors_sorted['coef'][idx], \n",
        "             pval] for idx, pval in enumerate(CDpval_sorted) if pval <= (idx+1)*q/n_C]\n",
        "\n",
        "print(f'Total Number of Authors: {len(df_authors_sorted)}')\n",
        "\n",
        "print(f'Number of Biased Authors: {len(C_reject)}')"
      ]
    },
    {
      "cell_type": "code",
      "source": [
        "# Benjamini-Hochberg False Discovery Rate_ without predictions\n",
        "df_authors_sorted_wop = df_authors_disc.sort_values(by='p-value_wo_pred', ignore_index=True)\n",
        "CDpval_sorted_wop = df_authors_sorted['p-value_wo_pred']\n",
        "n_C_wop = len(CDpval_sorted_wop)\n",
        "q = 0.1\n",
        "\n",
        "# Benjamini-Hochberg FDR Control\n",
        "C_reject_wop = [[df_authors_sorted['author'][idx], df_authors_sorted['coef_wo_pred'][idx], \n",
        "             pval] for idx, pval in enumerate(CDpval_sorted_wop) if pval <= (idx+1)*q/n_C_wop]\n",
        "\n",
        "print(f'Total Number of Authors: {len(df_authors_sorted)}')\n",
        "\n",
        "print(f'Number of Biased Authors: {len(C_reject_wop)}')"
      ],
      "metadata": {
        "colab": {
          "base_uri": "https://localhost:8080/"
        },
        "id": "35P_Gcw0bCvo",
        "outputId": "e1716186-7b20-403f-a979-dbfb629ca3aa"
      },
      "execution_count": null,
      "outputs": [
        {
          "output_type": "stream",
          "name": "stdout",
          "text": [
            "Total Number of Authors: 371\n",
            "Number of Biased Authors: 39\n"
          ]
        }
      ]
    }
  ]
}